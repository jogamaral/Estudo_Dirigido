{
 "cells": [
  {
   "cell_type": "code",
   "execution_count": 1,
   "metadata": {},
   "outputs": [],
   "source": [
    "from scipy.stats import norm,chi2,binom\n",
    "from numpy import random\n",
    "import numpy as np\n",
    "import matplotlib.pyplot as plt"
   ]
  },
  {
   "cell_type": "markdown",
   "metadata": {},
   "source": [
    "### Distribuição normal"
   ]
  },
  {
   "cell_type": "markdown",
   "metadata": {},
   "source": [
    "${P}{(z<0)}$"
   ]
  },
  {
   "cell_type": "code",
   "execution_count": 2,
   "metadata": {},
   "outputs": [
    {
     "data": {
      "text/plain": [
       "0.5"
      ]
     },
     "execution_count": 2,
     "metadata": {},
     "output_type": "execute_result"
    }
   ],
   "source": [
    "norm.cdf(0,0,1)"
   ]
  },
  {
   "cell_type": "markdown",
   "metadata": {},
   "source": [
    "${P}{(z>3)}$"
   ]
  },
  {
   "cell_type": "code",
   "execution_count": 3,
   "metadata": {},
   "outputs": [
    {
     "data": {
      "text/plain": [
       "0.0013498980316301035"
      ]
     },
     "execution_count": 3,
     "metadata": {},
     "output_type": "execute_result"
    }
   ],
   "source": [
    "1-norm.cdf(3,0,1)"
   ]
  },
  {
   "cell_type": "markdown",
   "metadata": {},
   "source": [
    "${P}{(-3<z<3)}$"
   ]
  },
  {
   "cell_type": "code",
   "execution_count": 4,
   "metadata": {},
   "outputs": [
    {
     "data": {
      "text/plain": [
       "0.9973002039367398"
      ]
     },
     "execution_count": 4,
     "metadata": {},
     "output_type": "execute_result"
    }
   ],
   "source": [
    "norm.cdf(3,0,1)-norm.cdf(-3,0,1)"
   ]
  },
  {
   "cell_type": "markdown",
   "metadata": {},
   "source": [
    "${P}{(z<x)}$"
   ]
  },
  {
   "cell_type": "code",
   "execution_count": 5,
   "metadata": {},
   "outputs": [
    {
     "data": {
      "text/plain": [
       "0.0"
      ]
     },
     "execution_count": 5,
     "metadata": {},
     "output_type": "execute_result"
    }
   ],
   "source": [
    "norm.ppf(0.5)"
   ]
  },
  {
   "cell_type": "markdown",
   "metadata": {},
   "source": [
    "${P}{(z<x)=0.00135}$"
   ]
  },
  {
   "cell_type": "code",
   "execution_count": 6,
   "metadata": {},
   "outputs": [
    {
     "data": {
      "text/plain": [
       "2.9999769927033935"
      ]
     },
     "execution_count": 6,
     "metadata": {},
     "output_type": "execute_result"
    }
   ],
   "source": [
    "norm.ppf(0.00135)*-1"
   ]
  },
  {
   "cell_type": "markdown",
   "metadata": {},
   "source": [
    "${P}{(-x<z<x)=0,9973}$"
   ]
  },
  {
   "cell_type": "code",
   "execution_count": 7,
   "metadata": {},
   "outputs": [
    {
     "data": {
      "text/plain": [
       "2.9999769927034015"
      ]
     },
     "execution_count": 7,
     "metadata": {},
     "output_type": "execute_result"
    }
   ],
   "source": [
    "norm.ppf(0.9973+(1-0.9973)/2)"
   ]
  },
  {
   "cell_type": "markdown",
   "metadata": {},
   "source": [
    "média = 5 e desvio padrão = 2"
   ]
  },
  {
   "cell_type": "code",
   "execution_count": 8,
   "metadata": {},
   "outputs": [
    {
     "data": {
      "text/plain": [
       "0.5"
      ]
     },
     "execution_count": 8,
     "metadata": {},
     "output_type": "execute_result"
    }
   ],
   "source": [
    "norm.cdf(5,5,2)"
   ]
  },
  {
   "cell_type": "code",
   "execution_count": 9,
   "metadata": {
    "scrolled": true
   },
   "outputs": [
    {
     "data": {
      "text/plain": [
       "0.0013498980316301035"
      ]
     },
     "execution_count": 9,
     "metadata": {},
     "output_type": "execute_result"
    }
   ],
   "source": [
    "1-norm.cdf(11,5,2)"
   ]
  },
  {
   "cell_type": "markdown",
   "metadata": {},
   "source": [
    "Lista com 20 amostras de tamanho n = 8."
   ]
  },
  {
   "cell_type": "code",
   "execution_count": 10,
   "metadata": {},
   "outputs": [
    {
     "data": {
      "text/plain": [
       "array([[ 7.37617235,  4.4160339 ,  4.20334719,  0.79280934,  5.65999367,\n",
       "         3.96040765, -0.12660791,  1.90397464,  1.7402004 ,  5.73830364,\n",
       "         4.35612132,  5.027298  ,  4.19871466,  7.11687007,  5.1138925 ,\n",
       "         6.22569178,  6.32019215,  5.71962268,  3.25583566,  4.36372528],\n",
       "       [ 5.29302885,  5.77108719,  6.87788647,  3.29019869,  2.88447412,\n",
       "         5.15707127,  5.05466217,  7.5502098 ,  6.15062882,  8.03375703,\n",
       "         5.40094285,  5.50739447,  6.66134925,  5.98504031,  3.6051665 ,\n",
       "         8.89611201,  6.09926965,  1.77693654,  3.05586026,  7.89616244],\n",
       "       [ 1.52649001,  5.7047097 ,  6.3970223 ,  3.77174077,  5.67140633,\n",
       "         4.56833468,  5.94865466,  5.57727612,  3.76425563,  5.25594352,\n",
       "         4.13697673,  3.60552325,  4.91799015,  3.45530775,  4.75131375,\n",
       "         4.88159142,  3.00539713,  7.52048624,  6.01385222,  3.20361196],\n",
       "       [ 6.51154078,  4.61392703,  7.25041688,  5.05422604,  3.05013107,\n",
       "         6.83153246,  3.67212596,  2.74528357,  0.52211567,  7.33965774,\n",
       "         4.55938498,  4.16980917,  4.22764364,  5.17928064,  4.9730603 ,\n",
       "         4.38415363,  5.01433046,  5.77570478,  2.69687965,  6.52839384],\n",
       "       [ 0.50886678,  2.68008386,  3.95430396,  5.45361324,  6.01352761,\n",
       "         5.89624918,  4.28352571,  1.24953668,  4.30383462,  6.10738356,\n",
       "         5.03819889,  3.35407379,  2.14770506,  4.02448833,  8.76157973,\n",
       "         2.91797024,  5.77951354,  6.25992441,  7.9928775 ,  6.57942861],\n",
       "       [ 4.87290522,  3.56762975,  6.30884182,  3.77746117,  5.49468862,\n",
       "         3.28213881,  4.53226134,  3.78520922,  5.58096172,  5.18620281,\n",
       "         5.34269792,  3.08048157,  5.05733943,  5.61471021,  8.56138324,\n",
       "         3.26878345,  6.5452598 ,  2.76081751,  6.28078011,  5.3413046 ],\n",
       "       [ 6.08362605,  5.85354955,  3.70036586,  3.70210025,  4.90594217,\n",
       "         4.00534054,  2.40053033,  5.47134996,  6.27197725,  3.26745483,\n",
       "         2.9658534 ,  5.98263913,  6.36071551,  4.38321116,  5.6889832 ,\n",
       "         5.42008918,  6.1582023 ,  2.34682648,  1.74141381,  4.96528129],\n",
       "       [ 5.69947158,  5.33924204, 10.27939727,  3.88918136,  7.16324335,\n",
       "         7.90127142,  1.84049879,  4.93663617,  9.0578953 ,  4.90924058,\n",
       "         4.56944687,  7.47267858,  1.89384421,  3.47730039,  5.47715241,\n",
       "         3.78866081,  4.66489386,  1.97172213,  3.97155714,  7.72096969]])"
      ]
     },
     "execution_count": 10,
     "metadata": {},
     "output_type": "execute_result"
    }
   ],
   "source": [
    "np.random.normal(5, 2,(8, 20))"
   ]
  },
  {
   "cell_type": "markdown",
   "metadata": {},
   "source": [
    "### Distribuição qui-quadrado"
   ]
  },
  {
   "cell_type": "markdown",
   "metadata": {},
   "source": [
    "${P}{(\\chi_5^2<6)}$"
   ]
  },
  {
   "cell_type": "code",
   "execution_count": 11,
   "metadata": {},
   "outputs": [
    {
     "data": {
      "text/plain": [
       "0.6937810815867212"
      ]
     },
     "execution_count": 11,
     "metadata": {},
     "output_type": "execute_result"
    }
   ],
   "source": [
    "chi2.cdf(6,df=5)"
   ]
  },
  {
   "cell_type": "markdown",
   "metadata": {},
   "source": [
    "${P}{(\\chi_5^2>10)}$"
   ]
  },
  {
   "cell_type": "code",
   "execution_count": 12,
   "metadata": {},
   "outputs": [
    {
     "data": {
      "text/plain": [
       "0.07523524614651222"
      ]
     },
     "execution_count": 12,
     "metadata": {},
     "output_type": "execute_result"
    }
   ],
   "source": [
    "1 - chi2.cdf(10,df=5)"
   ]
  },
  {
   "cell_type": "markdown",
   "metadata": {},
   "source": [
    "${P}{(\\chi_5^2<x)=0,69378}$"
   ]
  },
  {
   "cell_type": "code",
   "execution_count": 13,
   "metadata": {},
   "outputs": [
    {
     "data": {
      "text/plain": [
       "5.999988884512796"
      ]
     },
     "execution_count": 13,
     "metadata": {},
     "output_type": "execute_result"
    }
   ],
   "source": [
    "chi2.ppf(0.69378,df=5)"
   ]
  },
  {
   "cell_type": "markdown",
   "metadata": {},
   "source": [
    "${P}{(\\chi_5^2>x)=0,07524}$"
   ]
  },
  {
   "cell_type": "code",
   "execution_count": 14,
   "metadata": {},
   "outputs": [
    {
     "data": {
      "text/plain": [
       "9.99983222909767"
      ]
     },
     "execution_count": 14,
     "metadata": {},
     "output_type": "execute_result"
    }
   ],
   "source": [
    "chi2.ppf(1-0.07524,df=5)"
   ]
  },
  {
   "cell_type": "markdown",
   "metadata": {},
   "source": [
    "### Distribuição binomial"
   ]
  },
  {
   "cell_type": "code",
   "execution_count": 22,
   "metadata": {},
   "outputs": [
    {
     "data": {
      "text/plain": [
       "Text(0, 0.5, 'Probabilidade de sucesso')"
      ]
     },
     "execution_count": 22,
     "metadata": {},
     "output_type": "execute_result"
    },
    {
     "data": {
      "image/png": "[encoded data removed]",
      "text/plain": [
       "<Figure size 432x288 with 1 Axes>"
      ]
     },
     "metadata": {
      "needs_background": "light"
     },
     "output_type": "display_data"
    }
   ],
   "source": [
    "n = 20\n",
    "p = 0.1\n",
    "d = np.arange(0,21)\n",
    "plt.plot(d,binom.pmf(d,n,p),'o-')\n",
    "plt.title('Curva de distribuição\\nBinomial: n=20, p=0.10')\n",
    "plt.xlabel('Número de sucessos')\n",
    "plt.ylabel('Probabilidade de sucesso')"
   ]
  },
  {
   "cell_type": "code",
   "execution_count": 21,
   "metadata": {
    "scrolled": true
   },
   "outputs": [
    {
     "data": {
      "text/plain": [
       "Text(0, 0.5, 'Probabilidade de sucesso acumulada')"
      ]
     },
     "execution_count": 21,
     "metadata": {},
     "output_type": "execute_result"
    },
    {
     "data": {
      "image/png": "[encoded data removed]",
      "text/plain": [
       "<Figure size 432x288 with 1 Axes>"
      ]
     },
     "metadata": {
      "needs_background": "light"
     },
     "output_type": "display_data"
    }
   ],
   "source": [
    "n = 20\n",
    "p = 0.1\n",
    "d = np.arange(0,21)\n",
    "plt.plot(d,binom.cdf(d,n,p),'-')\n",
    "plt.title('Curva de distribuição acumulada\\nBinomial: n=20, p=0.10')\n",
    "plt.xlabel('Número de sucessos')\n",
    "plt.ylabel('Probabilidade de sucesso acumulada')"
   ]
  },
  {
   "cell_type": "code",
   "execution_count": 20,
   "metadata": {
    "scrolled": true
   },
   "outputs": [
    {
     "data": {
      "text/plain": [
       "Text(0, 0.5, 'Probabilidade de sucesso')"
      ]
     },
     "execution_count": 20,
     "metadata": {},
     "output_type": "execute_result"
    },
    {
     "data": {
      "image/png": "[encoded data removed]",
      "text/plain": [
       "<Figure size 432x288 with 1 Axes>"
      ]
     },
     "metadata": {
      "needs_background": "light"
     },
     "output_type": "display_data"
    }
   ],
   "source": [
    "n = 20\n",
    "p = np.linspace(0,0.5)\n",
    "d = 3\n",
    "plt.plot(p,binom.cdf(d,n,p),'-')\n",
    "plt.title('Curva característica de operação\\nBinomial: n={}, d={}'.format(n,d))\n",
    "plt.xlabel('Percentual de defeituosos no lote')\n",
    "plt.ylabel('Probabilidade de sucesso')"
   ]
  },
  {
   "cell_type": "code",
   "execution_count": 18,
   "metadata": {},
   "outputs": [
    {
     "name": "stdout",
     "output_type": "stream",
     "text": [
      "n = 99 \n",
      "d = 3\n"
     ]
    }
   ],
   "source": [
    "for n_min in range(200):\n",
    "    for d_min in range(n_min+1):\n",
    "        if binom.cdf(d_min,n_min,0.015) > 0.93 and binom.cdf(d_min,n_min,0.07) < 0.08:\n",
    "            print('n =',n_min,'\\nd =',d_min)\n",
    "            break\n",
    "    else:\n",
    "        continue\n",
    "    break              "
   ]
  },
  {
   "cell_type": "code",
   "execution_count": 19,
   "metadata": {},
   "outputs": [
    {
     "data": {
      "text/plain": [
       "Text(0, 0.5, 'Probabilidade de sucesso')"
      ]
     },
     "execution_count": 19,
     "metadata": {},
     "output_type": "execute_result"
    },
    {
     "data": {
      "image/png": "[encoded data removed]",
      "text/plain": [
       "<Figure size 432x288 with 1 Axes>"
      ]
     },
     "metadata": {
      "needs_background": "light"
     },
     "output_type": "display_data"
    }
   ],
   "source": [
    "p = np.linspace(0,0.5)\n",
    "plt.plot(p,binom.cdf(d_min,n_min,p),'-')\n",
    "plt.title('Curva característica de operação\\nBinomial: n={}, d={}'.format(n_min,d_min))\n",
    "plt.xlabel('Percentual de defeituosos no lote')\n",
    "plt.ylabel('Probabilidade de sucesso')          "
   ]
  }
 ],
 "metadata": {
  "kernelspec": {
   "display_name": "Python 3",
   "language": "python",
   "name": "python3"
  },
  "language_info": {
   "codemirror_mode": {
    "name": "ipython",
    "version": 3
   },
   "file_extension": ".py",
   "mimetype": "text/x-python",
   "name": "python",
   "nbconvert_exporter": "python",
   "pygments_lexer": "ipython3",
   "version": "3.7.7"
  }
 },
 "nbformat": 4,
 "nbformat_minor": 4
}
