{
 "cells": [
  {
   "cell_type": "code",
   "execution_count": 1,
   "metadata": {},
   "outputs": [],
   "source": [
    "import pandas as pd"
   ]
  },
  {
   "cell_type": "markdown",
   "metadata": {},
   "source": [
    "Leitura do Arquivo csv, definição de \";\" como separador, definição da coluna \"Amostra\" como index e definição de \",\" como separador decimal."
   ]
  },
  {
   "cell_type": "code",
   "execution_count": 2,
   "metadata": {},
   "outputs": [
    {
     "data": {
      "text/html": [
       "<div>\n",
       "<style scoped>\n",
       "    .dataframe tbody tr th:only-of-type {\n",
       "        vertical-align: middle;\n",
       "    }\n",
       "\n",
       "    .dataframe tbody tr th {\n",
       "        vertical-align: top;\n",
       "    }\n",
       "\n",
       "    .dataframe thead th {\n",
       "        text-align: right;\n",
       "    }\n",
       "</style>\n",
       "<table border=\"1\" class=\"dataframe\">\n",
       "  <thead>\n",
       "    <tr style=\"text-align: right;\">\n",
       "      <th></th>\n",
       "      <th>Obs1</th>\n",
       "      <th>Obs2</th>\n",
       "      <th>Obs3</th>\n",
       "      <th>Obs4</th>\n",
       "      <th>Obs5</th>\n",
       "      <th>Obs6</th>\n",
       "    </tr>\n",
       "    <tr>\n",
       "      <th>Amostra</th>\n",
       "      <th></th>\n",
       "      <th></th>\n",
       "      <th></th>\n",
       "      <th></th>\n",
       "      <th></th>\n",
       "      <th></th>\n",
       "    </tr>\n",
       "  </thead>\n",
       "  <tbody>\n",
       "    <tr>\n",
       "      <th>1</th>\n",
       "      <td>50.24</td>\n",
       "      <td>47.83</td>\n",
       "      <td>49.92</td>\n",
       "      <td>49.86</td>\n",
       "      <td>50.69</td>\n",
       "      <td>51.37</td>\n",
       "    </tr>\n",
       "    <tr>\n",
       "      <th>2</th>\n",
       "      <td>49.40</td>\n",
       "      <td>49.42</td>\n",
       "      <td>48.33</td>\n",
       "      <td>51.35</td>\n",
       "      <td>51.65</td>\n",
       "      <td>50.23</td>\n",
       "    </tr>\n",
       "    <tr>\n",
       "      <th>3</th>\n",
       "      <td>49.70</td>\n",
       "      <td>50.19</td>\n",
       "      <td>51.81</td>\n",
       "      <td>48.95</td>\n",
       "      <td>50.79</td>\n",
       "      <td>48.37</td>\n",
       "    </tr>\n",
       "    <tr>\n",
       "      <th>4</th>\n",
       "      <td>51.49</td>\n",
       "      <td>49.21</td>\n",
       "      <td>49.37</td>\n",
       "      <td>51.60</td>\n",
       "      <td>51.48</td>\n",
       "      <td>48.16</td>\n",
       "    </tr>\n",
       "    <tr>\n",
       "      <th>5</th>\n",
       "      <td>48.15</td>\n",
       "      <td>50.89</td>\n",
       "      <td>49.19</td>\n",
       "      <td>51.09</td>\n",
       "      <td>49.04</td>\n",
       "      <td>47.79</td>\n",
       "    </tr>\n",
       "  </tbody>\n",
       "</table>\n",
       "</div>"
      ],
      "text/plain": [
       "          Obs1   Obs2   Obs3   Obs4   Obs5   Obs6\n",
       "Amostra                                          \n",
       "1        50.24  47.83  49.92  49.86  50.69  51.37\n",
       "2        49.40  49.42  48.33  51.35  51.65  50.23\n",
       "3        49.70  50.19  51.81  48.95  50.79  48.37\n",
       "4        51.49  49.21  49.37  51.60  51.48  48.16\n",
       "5        48.15  50.89  49.19  51.09  49.04  47.79"
      ]
     },
     "execution_count": 2,
     "metadata": {},
     "output_type": "execute_result"
    }
   ],
   "source": [
    "df = pd.read_csv('dados/Dados1.csv',sep=';',index_col='Amostra',decimal= ',')\n",
    "df.head()"
   ]
  },
  {
   "cell_type": "markdown",
   "metadata": {},
   "source": [
    "Criação de dataframe \"df_dados\" para facilitar a escrita e compreensão."
   ]
  },
  {
   "cell_type": "code",
   "execution_count": 3,
   "metadata": {},
   "outputs": [],
   "source": [
    "df_dados = df[['Obs1','Obs2','Obs3','Obs4','Obs5','Obs6']]"
   ]
  },
  {
   "cell_type": "markdown",
   "metadata": {},
   "source": [
    "Criação da coluna \"Media\" com a média de cada linha."
   ]
  },
  {
   "cell_type": "code",
   "execution_count": 4,
   "metadata": {},
   "outputs": [],
   "source": [
    "df['Media'] = df_dados.mean(axis=1)"
   ]
  },
  {
   "cell_type": "markdown",
   "metadata": {},
   "source": [
    "Criação da coluna \"Amplitude\" com a diferença do máximo e mínimo de cada linha."
   ]
  },
  {
   "cell_type": "code",
   "execution_count": 5,
   "metadata": {},
   "outputs": [],
   "source": [
    "df['Amplitude'] = df_dados.max(axis=1) - df_dados.min(axis=1)"
   ]
  },
  {
   "cell_type": "markdown",
   "metadata": {},
   "source": [
    "Criação da coluna \"Desvio Padrao\" com o desvio padrão de cada linha."
   ]
  },
  {
   "cell_type": "code",
   "execution_count": 9,
   "metadata": {},
   "outputs": [],
   "source": [
    "df['Desvio Padrao'] = df_dados.std(axis=1)"
   ]
  },
  {
   "cell_type": "code",
   "execution_count": 10,
   "metadata": {
    "scrolled": true
   },
   "outputs": [
    {
     "data": {
      "text/html": [
       "<div>\n",
       "<style scoped>\n",
       "    .dataframe tbody tr th:only-of-type {\n",
       "        vertical-align: middle;\n",
       "    }\n",
       "\n",
       "    .dataframe tbody tr th {\n",
       "        vertical-align: top;\n",
       "    }\n",
       "\n",
       "    .dataframe thead th {\n",
       "        text-align: right;\n",
       "    }\n",
       "</style>\n",
       "<table border=\"1\" class=\"dataframe\">\n",
       "  <thead>\n",
       "    <tr style=\"text-align: right;\">\n",
       "      <th></th>\n",
       "      <th>Obs1</th>\n",
       "      <th>Obs2</th>\n",
       "      <th>Obs3</th>\n",
       "      <th>Obs4</th>\n",
       "      <th>Obs5</th>\n",
       "      <th>Obs6</th>\n",
       "      <th>Media</th>\n",
       "      <th>Amplitude</th>\n",
       "      <th>Desvio Padrao</th>\n",
       "    </tr>\n",
       "    <tr>\n",
       "      <th>Amostra</th>\n",
       "      <th></th>\n",
       "      <th></th>\n",
       "      <th></th>\n",
       "      <th></th>\n",
       "      <th></th>\n",
       "      <th></th>\n",
       "      <th></th>\n",
       "      <th></th>\n",
       "      <th></th>\n",
       "    </tr>\n",
       "  </thead>\n",
       "  <tbody>\n",
       "    <tr>\n",
       "      <th>1</th>\n",
       "      <td>50.24</td>\n",
       "      <td>47.83</td>\n",
       "      <td>49.92</td>\n",
       "      <td>49.86</td>\n",
       "      <td>50.69</td>\n",
       "      <td>51.37</td>\n",
       "      <td>49.985000</td>\n",
       "      <td>3.54</td>\n",
       "      <td>1.195337</td>\n",
       "    </tr>\n",
       "    <tr>\n",
       "      <th>2</th>\n",
       "      <td>49.40</td>\n",
       "      <td>49.42</td>\n",
       "      <td>48.33</td>\n",
       "      <td>51.35</td>\n",
       "      <td>51.65</td>\n",
       "      <td>50.23</td>\n",
       "      <td>50.063333</td>\n",
       "      <td>3.32</td>\n",
       "      <td>1.269577</td>\n",
       "    </tr>\n",
       "    <tr>\n",
       "      <th>3</th>\n",
       "      <td>49.70</td>\n",
       "      <td>50.19</td>\n",
       "      <td>51.81</td>\n",
       "      <td>48.95</td>\n",
       "      <td>50.79</td>\n",
       "      <td>48.37</td>\n",
       "      <td>49.968333</td>\n",
       "      <td>3.44</td>\n",
       "      <td>1.247372</td>\n",
       "    </tr>\n",
       "    <tr>\n",
       "      <th>4</th>\n",
       "      <td>51.49</td>\n",
       "      <td>49.21</td>\n",
       "      <td>49.37</td>\n",
       "      <td>51.60</td>\n",
       "      <td>51.48</td>\n",
       "      <td>48.16</td>\n",
       "      <td>50.218333</td>\n",
       "      <td>3.44</td>\n",
       "      <td>1.489368</td>\n",
       "    </tr>\n",
       "    <tr>\n",
       "      <th>5</th>\n",
       "      <td>48.15</td>\n",
       "      <td>50.89</td>\n",
       "      <td>49.19</td>\n",
       "      <td>51.09</td>\n",
       "      <td>49.04</td>\n",
       "      <td>47.79</td>\n",
       "      <td>49.358333</td>\n",
       "      <td>3.30</td>\n",
       "      <td>1.370699</td>\n",
       "    </tr>\n",
       "  </tbody>\n",
       "</table>\n",
       "</div>"
      ],
      "text/plain": [
       "          Obs1   Obs2   Obs3   Obs4   Obs5   Obs6      Media  Amplitude  \\\n",
       "Amostra                                                                   \n",
       "1        50.24  47.83  49.92  49.86  50.69  51.37  49.985000       3.54   \n",
       "2        49.40  49.42  48.33  51.35  51.65  50.23  50.063333       3.32   \n",
       "3        49.70  50.19  51.81  48.95  50.79  48.37  49.968333       3.44   \n",
       "4        51.49  49.21  49.37  51.60  51.48  48.16  50.218333       3.44   \n",
       "5        48.15  50.89  49.19  51.09  49.04  47.79  49.358333       3.30   \n",
       "\n",
       "         Desvio Padrao  \n",
       "Amostra                 \n",
       "1             1.195337  \n",
       "2             1.269577  \n",
       "3             1.247372  \n",
       "4             1.489368  \n",
       "5             1.370699  "
      ]
     },
     "execution_count": 10,
     "metadata": {},
     "output_type": "execute_result"
    }
   ],
   "source": [
    "df.head()"
   ]
  }
 ],
 "metadata": {
  "kernelspec": {
   "display_name": "Python 3",
   "language": "python",
   "name": "python3"
  },
  "language_info": {
   "codemirror_mode": {
    "name": "ipython",
    "version": 3
   },
   "file_extension": ".py",
   "mimetype": "text/x-python",
   "name": "python",
   "nbconvert_exporter": "python",
   "pygments_lexer": "ipython3",
   "version": "3.7.7"
  }
 },
 "nbformat": 4,
 "nbformat_minor": 4
}
